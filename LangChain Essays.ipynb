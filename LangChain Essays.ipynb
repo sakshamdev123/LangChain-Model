{
 "cells": [
  {
   "cell_type": "code",
   "execution_count": 20,
   "id": "12728f0e",
   "metadata": {},
   "outputs": [],
   "source": [
    "import os\n",
    "from apikey import apikey\n",
    "from langchain.llms import OpenAI\n",
    "from langchain import PromptTemplate\n",
    "from langchain.chains import LLMChain"
   ]
  },
  {
   "cell_type": "code",
   "execution_count": 21,
   "id": "1992407a",
   "metadata": {},
   "outputs": [],
   "source": [
    "os.environ['OPENAI_API_KEY']=apikey"
   ]
  },
  {
   "cell_type": "markdown",
   "id": "136ccbbc",
   "metadata": {},
   "source": [
    "# Model for Generating Essays"
   ]
  },
  {
   "cell_type": "code",
   "execution_count": 43,
   "id": "c556d08d",
   "metadata": {},
   "outputs": [
    {
     "name": "stdout",
     "output_type": "stream",
     "text": [
      "Enter the topic on which you want the Essay:cow\n"
     ]
    }
   ],
   "source": [
    "input_text=input('Enter the topic on which you want the Essay:')"
   ]
  },
  {
   "cell_type": "code",
   "execution_count": 44,
   "id": "256b6593",
   "metadata": {},
   "outputs": [],
   "source": [
    "input_prompt=PromptTemplate(input_variables=['topic'],\n",
    "                            template=\"Write an essay on {topic}\")"
   ]
  },
  {
   "cell_type": "code",
   "execution_count": 45,
   "id": "7465cc46",
   "metadata": {},
   "outputs": [],
   "source": [
    "llm=OpenAI(temperature=0.8)"
   ]
  },
  {
   "cell_type": "code",
   "execution_count": 46,
   "id": "8310e097",
   "metadata": {},
   "outputs": [],
   "source": [
    "chain=LLMChain(llm=llm, prompt=input_prompt, verbose=True)"
   ]
  },
  {
   "cell_type": "code",
   "execution_count": 48,
   "id": "a12d95b0",
   "metadata": {},
   "outputs": [
    {
     "name": "stdout",
     "output_type": "stream",
     "text": [
      "\n",
      "\n",
      "\u001b[1m> Entering new  chain...\u001b[0m\n",
      "Prompt after formatting:\n",
      "\u001b[32;1m\u001b[1;3mWrite an essay on cow\u001b[0m\n",
      "\n",
      "\u001b[1m> Finished chain.\u001b[0m\n",
      "\n",
      "\n",
      "The cow is a four-legged, mooing mammal that is one of the most beloved and important animals in the world. It is venerated in many cultures and countries, and is an integral part of the agricultural ecosystem that sustains human existence. The cow is a fundamental part of Indian culture and is often seen as a symbol of wealth, health, and fertility.\n",
      "\n",
      "The cow has a rich history in India, where it has been used for centuries for dairy, draught labor, and religious rites. In Hinduism, the cow is seen as a divine creature that symbolizes health, wealth, and fertility. It is venerated in temples and festivals, and even referred to as the \"Mother of all Creatures\". The cow has been integral in India’s agricultural history, providing not only milk, but also dung for fuel and fertilizer. In India, the cow is seen as a vehicle for providing sustenance, both physical and spiritual.\n",
      "\n",
      "The cow has also been essential for the world’s agricultural systems. It is an integral part of small-scale farming, providing milk, meat, and draught labor. It provides a dependable source of nutrition and an efficient way to transport goods, as it can carry heavy loads\n"
     ]
    }
   ],
   "source": [
    "print(chain.run(input_text))"
   ]
  },
  {
   "cell_type": "markdown",
   "id": "3efe6f44",
   "metadata": {},
   "source": [
    "# Model for performing user - assigned tasks on CSV file"
   ]
  },
  {
   "cell_type": "code",
   "execution_count": 29,
   "id": "8177facc",
   "metadata": {},
   "outputs": [],
   "source": [
    "from langchain.agents import create_pandas_dataframe_agent\n",
    "import pandas as pd"
   ]
  },
  {
   "cell_type": "code",
   "execution_count": 32,
   "id": "be3ba48b",
   "metadata": {},
   "outputs": [],
   "source": [
    "df=pd.read_csv('Marks.csv')"
   ]
  },
  {
   "cell_type": "code",
   "execution_count": 36,
   "id": "f71b6a84",
   "metadata": {},
   "outputs": [
    {
     "data": {
      "text/plain": [
       "Names     object\n",
       "Marks    float64\n",
       "dtype: object"
      ]
     },
     "execution_count": 36,
     "metadata": {},
     "output_type": "execute_result"
    }
   ],
   "source": [
    "df.dtypes"
   ]
  },
  {
   "cell_type": "code",
   "execution_count": 37,
   "id": "46a89052",
   "metadata": {},
   "outputs": [],
   "source": [
    "agent = create_pandas_dataframe_agent(OpenAI(temperature=0.8), df, verbose=True)"
   ]
  },
  {
   "cell_type": "code",
   "execution_count": 38,
   "id": "5265562a",
   "metadata": {},
   "outputs": [
    {
     "name": "stdout",
     "output_type": "stream",
     "text": [
      "\n",
      "\n",
      "\u001b[1m> Entering new  chain...\u001b[0m\n",
      "\u001b[32;1m\u001b[1;3mThought: I need to find the maximum value and its row index\n",
      "Action: python_repl_ast\n",
      "Action Input: df['Marks'].max()\u001b[0m\n",
      "Observation: \u001b[36;1m\u001b[1;3m98.0\u001b[0m\n",
      "Thought:\u001b[32;1m\u001b[1;3m I need to find the corresponding name\n",
      "Action: python_repl_ast\n",
      "Action Input: df.loc[df['Marks'].idxmax(), 'Names']\u001b[0m\n",
      "Observation: \u001b[36;1m\u001b[1;3mMohit Saini\u001b[0m\n",
      "Thought:\u001b[32;1m\u001b[1;3m I now know the final answer\n",
      "Final Answer: The highest marks is 98.0 and Mohit Saini has the highest marks.\u001b[0m\n",
      "\n",
      "\u001b[1m> Finished chain.\u001b[0m\n"
     ]
    },
    {
     "data": {
      "text/plain": [
       "'The highest marks is 98.0 and Mohit Saini has the highest marks.'"
      ]
     },
     "execution_count": 38,
     "metadata": {},
     "output_type": "execute_result"
    }
   ],
   "source": [
    "agent.run('What is the highest marks and who has the highest marks?')"
   ]
  },
  {
   "cell_type": "code",
   "execution_count": 39,
   "id": "d10ae1b6",
   "metadata": {},
   "outputs": [
    {
     "name": "stdout",
     "output_type": "stream",
     "text": [
      "\n",
      "\n",
      "\u001b[1m> Entering new  chain...\u001b[0m\n",
      "\u001b[32;1m\u001b[1;3mThought: I need to get the mean of the marks column\n",
      "Action: python_repl_ast\n",
      "Action Input: df['Marks'].mean()\u001b[0m\n",
      "Observation: \u001b[36;1m\u001b[1;3m44.833333333333336\u001b[0m\n",
      "Thought:\u001b[32;1m\u001b[1;3m I now know the final answer\n",
      "Final Answer: The mean marks is 44.83.\u001b[0m\n",
      "\n",
      "\u001b[1m> Finished chain.\u001b[0m\n"
     ]
    },
    {
     "data": {
      "text/plain": [
       "'The mean marks is 44.83.'"
      ]
     },
     "execution_count": 39,
     "metadata": {},
     "output_type": "execute_result"
    }
   ],
   "source": [
    "agent.run('What is the mean marks?')"
   ]
  },
  {
   "cell_type": "code",
   "execution_count": 40,
   "id": "8d14042a",
   "metadata": {},
   "outputs": [
    {
     "name": "stdout",
     "output_type": "stream",
     "text": [
      "\n",
      "\n",
      "\u001b[1m> Entering new  chain...\u001b[0m\n",
      "\u001b[32;1m\u001b[1;3mThought: I need to create the column and fill it with 'Pass' or 'Fail'\n",
      "Action: python_repl_ast\n",
      "Action Input: df['Pass/Fail'] = df['Marks'].apply(lambda x: 'Pass' if x > 30 else 'Fail')\u001b[0m\n",
      "Observation: \u001b[36;1m\u001b[1;3m\u001b[0m\n",
      "Thought:\u001b[32;1m\u001b[1;3m I now need to save the df as a csv\n",
      "Action: python_repl_ast\n",
      "Action Input: df.to_csv('df_updated.csv')\u001b[0m\n",
      "Observation: \u001b[36;1m\u001b[1;3m\u001b[0m\n",
      "Thought:\u001b[32;1m\u001b[1;3m I now know the final answer\n",
      "Final Answer: The dataframe has been saved with the Pass/Fail column added as a csv file named 'df_updated.csv'\u001b[0m\n",
      "\n",
      "\u001b[1m> Finished chain.\u001b[0m\n"
     ]
    },
    {
     "data": {
      "text/plain": [
       "\"The dataframe has been saved with the Pass/Fail column added as a csv file named 'df_updated.csv'\""
      ]
     },
     "execution_count": 40,
     "metadata": {},
     "output_type": "execute_result"
    }
   ],
   "source": [
    "agent.run('Add a column Pass/Fail and write Pass if marks are greater than 30 otherwise write Fail and save the csv file')"
   ]
  },
  {
   "cell_type": "code",
   "execution_count": null,
   "id": "2996a671",
   "metadata": {},
   "outputs": [],
   "source": []
  },
  {
   "cell_type": "code",
   "execution_count": null,
   "id": "5ce61cbd",
   "metadata": {},
   "outputs": [],
   "source": []
  }
 ],
 "metadata": {
  "kernelspec": {
   "display_name": "Python 3 (ipykernel)",
   "language": "python",
   "name": "python3"
  },
  "language_info": {
   "codemirror_mode": {
    "name": "ipython",
    "version": 3
   },
   "file_extension": ".py",
   "mimetype": "text/x-python",
   "name": "python",
   "nbconvert_exporter": "python",
   "pygments_lexer": "ipython3",
   "version": "3.10.5"
  }
 },
 "nbformat": 4,
 "nbformat_minor": 5
}
